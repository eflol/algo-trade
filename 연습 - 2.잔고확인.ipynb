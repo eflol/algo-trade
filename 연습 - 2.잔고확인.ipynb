{
 "metadata": {
  "language_info": {
   "codemirror_mode": {
    "name": "ipython",
    "version": 3
   },
   "file_extension": ".py",
   "mimetype": "text/x-python",
   "name": "python",
   "nbconvert_exporter": "python",
   "pygments_lexer": "ipython3",
   "version": "3.6.8-final"
  },
  "orig_nbformat": 2,
  "kernelspec": {
   "name": "python36832bit98b0c0fca089417f96855d9782001683",
   "display_name": "Python 3.6.8 32-bit"
  }
 },
 "nbformat": 4,
 "nbformat_minor": 2,
 "cells": [
  {
   "cell_type": "markdown",
   "metadata": {},
   "source": [
    "# 연습 - 종목정보(코드,가격), 계좌잔고확인, 주문, 스케쥴링\n",
    "\n",
    "## 주의사항\n",
    "-------------------------------------\n",
    "* 파이썬은 3.6 32비트 버전을 설치\n",
    "* 프로젝트 경로 및 폴더명은 공백과 한글이 없도록 설치\n",
    "* 사이보스는 관리자 권한으로 수행\n",
    "* 주피터 노트북이 너무 느리면, VS Code에서 파이썬 플러그인을 설치해서 개발\n",
    "* VS Code Python plugin에서 주피터 서버를 띄워줌. 수행속도는 차이가 없으나 코딩화면에서 반응 속도 빠름.\n",
    "-------------------------------------\n",
    "\n",
    "## 계좌잔고확인 및 주문\n",
    "\n",
    "-------------------------------------\n",
    "\n",
    "    ==========================================\n",
    "    예수금                            :   1000\n",
    "    매수율(월모멘텀+단기하락)^2/4*100 :    70%\n",
    "    투자증거금 (예수금 * 매수율)      :    700\n",
    "    계약당 증거금                     :    200\n",
    "    투자증거금 / 계약당 증거금        :   3.50\n",
    "    ==========================================\n",
    "    매수 계약수                       :      3\n",
    "    최대 계약수                       :     50\n",
    "    max(매수,최대)                    :      3\n",
    "    주문가능 수량                     :      5\n",
    "    당기선물 잔존일이 0이면 매수하지 않는다.  "
   ]
  },
  {
   "cell_type": "code",
   "execution_count": 12,
   "metadata": {
    "tags": []
   },
   "outputs": [
    {
     "output_type": "stream",
     "name": "stdout",
     "text": "정상: 관리자권한으로 실행된 프로세스입니다.\n==========================================\n계좌번호 : 782338168\ng_objCpTrade0721 통신상태 0 11977 잔고내역이없습니다.(acc.bpm.blnbdwn.selfo)\n3 - (longlong)현금결제예탁액        : 10800000\n4 - (longlong)대용결제예탁액        : 0\n5 - (longlong)총결제예탁액          : 10800000\n6 - (longlong)현금위탁증거금        : 0\n7 - (longlong)대용위탁증거금        : 0\n8 - (longlong)총위탁증거금          : 0\n9 - (longlong)현금주문가능액        : 0\n10 - (longlong)대용주문가능액       : 0\n11 - (longlong)총주문가능액         : 0\n12 - (longlong)현금인출가능액       : 10800000\n13 - (longlong)대용인출가능액       : 0\n14 - (longlong)총인출가능액         : 10800000\n15 - (longlong)순위험증거금         : 0\n17 - (longlong)체결분순익           : 0\n18 - (longlong)미체결주문분         : 0\n20 - (longlong)현금미결제예탁액     : 0\n21 - (longlong)대용미결제예탁액     : 0\n22 - (longlong)총미결제예탁액       : 0\n23 - (longlong)현금결재순손실       : 0\n24 - (longlong)총결재순손실         : 0\n25 - (long) 수신개수                : 0\n26- (long) 매도신규주문수량         : 0\n27- (long) 매도청산주문수량         : 0\n28- (long) 매수신규주문수량         : 0\n29- (long) 매수청산주문수량         : 0\n30- (longlong) 체결분순손실         : 0\n31 - (longlong) C등급총위험증거금   : 0\n32 - (longlong) C등급총위험가결산   : 0\n33 - (longlong) D등급총위험증거금   : 0\n34 - (longlong) D등급총위험가결산   : 0\n35 - (longlong) E등급총위험증거금   : 0\n36 - (longlong) E등급총위험가결산   : 0\n==========================================\n계좌번호 : 782338168\ng_objCpTrade6722 통신상태 0 12247 조회완료되었습니다.(ord.fo.dpmyinqr.selanwordpsblqty)\n2 - (longlong)현금주문전주문가능금액   10800000\n3 - (longlong)대용주문전주문가능금액   0\n4 - (longlong)총액주문전주문가능금액   10800000\n11 - (longlong)현금매도신규분증거금    4743015\n12 - (longlong)대용매도신규분증거금    4743015\n13 - (longlong)총액매도신규분증거금    9486030\n14 - (longlong)현금매도주문후가능금액  6056985\n15 - (longlong)대용매도주문후가능금액  -4743015\n16 - (longlong)총액매도주문후가능금액  1313970\n17 - (long)매도보유포지션수량          0\n18 - (long)매도청산주문가능수량        0\n19 - (long)매도신규주문가능수량        5\n20 - (long) 매도총주문가능수량         5\n21 - (longlong)현금매수신규주문증거금  4743015\n22 - (longlong)대용매수신규주문증거금  4743015\n23 - (longlong)총액매수신규주문증거금  9486030\n24 - (longlong)현금매수주문후가능금액  6056985\n25 - (longlong)대용매수주문후가능금액  -4743015\n26 - (longlong)총액매수주문후가능금액  1313970\n27 - (long)매수보유포지션수량          0\n28 - (long)매수청산주문가능수량        0\n29 - (long)매수신규주문가능수량        5\n30 - (long) 매수총주문가능수량         5\n예수금                            :   10800000\n투자증거금 (예수금 * 매수강도)    :   7560000\n계약당 증거금                     :    200\n투자증거금 / 계약당 증거금        :   3.50\n==========================================\n매수 계약수                       :      3\n최대 계약수                       :     50\nmax(매수,최대)                    :      3\n주문가능 수량                     :      5\n당기선물 잔존일이 0이면 매수하지 않는다.  \n\n\n"
    }
   ],
   "source": [
    "import sys\n",
    "import win32com.client\n",
    "import datetime\n",
    "import sqlite3\n",
    "import ctypes\n",
    "\n",
    "g_objCodeMgr = win32com.client.Dispatch('CpUtil.CpCodeMgr')\n",
    "g_objCpStatus = win32com.client.Dispatch('CpUtil.CpCybos')\n",
    "g_objCpTrade = win32com.client.Dispatch('CpTrade.CpTdUtil')\n",
    "g_objCpTrade0721 = win32com.client.Dispatch('CpTrade.CpTd0721F')\n",
    "g_objCpTrade0732 = win32com.client.Dispatch('CpTrade.CpTd0732')\n",
    "g_objCpTrade6722 = win32com.client.Dispatch('CpTrade.CpTd6722') # 선물/옵션신규주문가능수량조회\n",
    "\n",
    "\n",
    "\n",
    "# g_objFutureMgr = win32com.client.Dispatch(\"CpUtil.CpKFutureCode\")\n",
    "# g_objFutureMaster = win32com.client.Dispatch(\"Dscbo1.FutureMst\")\n",
    "\n",
    "def InitPlusCheck():\n",
    "    # 프로세스가 관리자 권한으로 실행 여부\n",
    "    if ctypes.windll.shell32.IsUserAnAdmin():\n",
    "        print('정상: 관리자권한으로 실행된 프로세스입니다.')\n",
    "    else:\n",
    "        print('오류: 일반권한으로 실행됨. 관리자 권한으로 실행해 주세요')\n",
    "        return False\n",
    " \n",
    "    # 연결 여부 체크\n",
    "    if (g_objCpStatus.IsConnect == 0):\n",
    "        print(\"PLUS가 정상적으로 연결되지 않음. \")\n",
    "        return False\n",
    " \n",
    "    # 주문 관련 초기화\n",
    "    ret = g_objCpTrade.TradeInit(0)\n",
    "    if (ret != 0):\n",
    "        print(\"주문 초기화 실패, 오류번호 \", ret)\n",
    "        return False\n",
    "\n",
    "\n",
    "    # # 주문 관련 초기화\n",
    "    # if (g_objCpTrade0721.TradeInit(0) != 0):\n",
    "    #     print(\"주문 초기화 실패\")\n",
    "    #     return False\n",
    "         \n",
    " \n",
    "    # # 주문 관련 초기화\n",
    "    # if (g_objCpTrade0732.TradeInit(0) != 0):\n",
    "    #     print(\"주문 초기화 실패\")\n",
    "    #     return False\n",
    "         \n",
    "    return True\n",
    " \n",
    "\n",
    "if __name__ == \"__main__\":\n",
    "    if False == InitPlusCheck() :\n",
    "        exit()\n",
    "\n",
    "    "
   ]
  },
  {
   "cell_type": "code",
   "execution_count": null,
   "metadata": {},
   "outputs": [],
   "source": []
  }
 ]
}