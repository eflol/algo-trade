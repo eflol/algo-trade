{
 "metadata": {
  "language_info": {
   "codemirror_mode": {
    "name": "ipython",
    "version": 3
   },
   "file_extension": ".py",
   "mimetype": "text/x-python",
   "name": "python",
   "nbconvert_exporter": "python",
   "pygments_lexer": "ipython3",
   "version": "3.6.8-final"
  },
  "orig_nbformat": 2,
  "kernelspec": {
   "name": "python36832bit98b0c0fca089417f96855d9782001683",
   "display_name": "Python 3.6.8 32-bit"
  }
 },
 "nbformat": 4,
 "nbformat_minor": 2,
 "cells": [
  {
   "cell_type": "markdown",
   "metadata": {},
   "source": [
    "## 매수시간(15시35분~15시45분) 이고 금일 매수내역이 없으면 매수한다.\n",
    "1. 매수시간이면\n",
    "    1. 금일 매수내역이 없으면\n",
    "        1. 매수여부, 매수강도로 매수수량 산출\n",
    "        1. 매수주문\n",
    "        1. DB에 기록\n",
    "\n",
    "## 매도시간(08시30분~15시35분) 이고 전일 잔고가 청산이 되지않았고, 계좌 잔고가 남아있으면 청산한다.\n",
    "1. 매도시간이면\n",
    "    1. DB상 전일잔고가 +인가\n",
    "        1. 계좌잔고가 +인가\n",
    "            1. 계좌잔고만큼 매도 주문\n",
    "            1. DB에 매도기록\n",
    "\n"
   ]
  },
  {
   "cell_type": "code",
   "execution_count": 5,
   "metadata": {
    "tags": []
   },
   "outputs": [
    {
     "output_type": "stream",
     "name": "stdout",
     "text": "2020-07-30 11:48:44 : 매도시간\n2020-07-30 11:48:44 : 전일잔고(DB) : 0.000000\n2020-07-30 11:48:44 : 팔게 없다\n2020-07-30 11:48:47 : 매도시간\n2020-07-30 11:48:47 : 전일잔고(DB) : 0.000000\n2020-07-30 11:48:47 : 팔게 없다\n2020-07-30 11:48:50 : 매도시간\n2020-07-30 11:48:50 : 전일잔고(DB) : 0.000000\n2020-07-30 11:48:50 : 팔게 없다\n"
    },
    {
     "output_type": "error",
     "ename": "KeyboardInterrupt",
     "evalue": "",
     "traceback": [
      "\u001b[1;31m---------------------------------------------------------------------------\u001b[0m",
      "\u001b[1;31mKeyboardInterrupt\u001b[0m                         Traceback (most recent call last)",
      "\u001b[1;32m<ipython-input-5-42464b779ff6>\u001b[0m in \u001b[0;36m<module>\u001b[1;34m\u001b[0m\n\u001b[0;32m     73\u001b[0m         \u001b[1;31m# for row in c.execute(\"SELECT sum(수량) FROM trans WHERE 종목코드 = '%s' and substr(거래일시,1,10) = '%s'\" % (symbol , today)):\u001b[0m\u001b[1;33m\u001b[0m\u001b[1;33m\u001b[0m\u001b[1;33m\u001b[0m\u001b[0m\n\u001b[0;32m     74\u001b[0m \u001b[1;33m\u001b[0m\u001b[0m\n\u001b[1;32m---> 75\u001b[1;33m     \u001b[0mtime\u001b[0m\u001b[1;33m.\u001b[0m\u001b[0msleep\u001b[0m\u001b[1;33m(\u001b[0m\u001b[1;36m3\u001b[0m\u001b[1;33m)\u001b[0m\u001b[1;33m\u001b[0m\u001b[1;33m\u001b[0m\u001b[0m\n\u001b[0m\u001b[0;32m     76\u001b[0m \u001b[1;33m\u001b[0m\u001b[0m\n\u001b[0;32m     77\u001b[0m \u001b[1;33m\u001b[0m\u001b[0m\n",
      "\u001b[1;31mKeyboardInterrupt\u001b[0m: "
     ]
    }
   ],
   "source": [
    "import sys\n",
    "import win32com.client\n",
    "import time\n",
    "import sqlite3\n",
    "import os\n",
    "from datetime import datetime, timedelta\n",
    "\n",
    "global fd\n",
    "fd = open(\"./trade.log\", 'a', encoding=\"MS949\")  ## 3)\n",
    "\n",
    "def log(msg):\n",
    "    fd.write((datetime.now().strftime(\"%Y-%m-%d %H:%M:%S\") + \" : \" + msg + \"\\n\"))\n",
    "    print((datetime.now().strftime(\"%Y-%m-%d %H:%M:%S\")  + \" : \" +  msg ))\n",
    "    fd.flush()\n",
    "\n",
    "conn = sqlite3.connect('example.db')\n",
    "c = conn.cursor()\n",
    "symbol = '106Q9'\n",
    "line = ''\n",
    "\n",
    "while True:\n",
    "    \n",
    "    today = datetime.now().strftime(\"%Y-%m-%d\")\n",
    "    yesterday = (datetime.now() - timedelta(days=1)).strftime(\"%Y-%m-%d\")\n",
    "\n",
    "    # log(\"today : \" + today)\n",
    "    # log(\"yesterday : \" + yesterday)\n",
    "\n",
    "    nowtime = datetime.now().strftime(\"%H:%M:%S\")\n",
    "    # log(nowtime)\n",
    "\n",
    "    if nowtime > '15:35:30' and nowtime < '15:45:59' :\n",
    "        log( \"매수시간\")\n",
    "\n",
    "        rowcnt = 0\n",
    "        for r in c.execute(\"SELECT sum(수량) FROM trans WHERE 종목코드 = '%s' and substr(거래일시,1,10) = '%s'\" % (symbol , today)):\n",
    "            posSum = r[0]\n",
    "            rowcnt += 1\n",
    "\n",
    "        log('당일잔고(DB)) : %f' % posSum)\n",
    "        if posSum > 0 :\n",
    "            log(\"안삼\")\n",
    "        else :\n",
    "            log(\"매수여부, 주문강도로 매수수량 산출\")\n",
    "            log(\"샀으면 DB에 기록\")\n",
    "\n",
    "    # elif nowtime > '00:00:00' and nowtime < '23:59:59' :\n",
    "    elif nowtime > '08:31:00' and nowtime < '15:35:59' :\n",
    "        log(\"매도시간\")\n",
    "\n",
    "        rowcnt = 0\n",
    "        for r in c.execute(\"SELECT sum(수량) FROM trans WHERE 종목코드 = '%s'\" % (symbol)):\n",
    "            posSum = r[0]\n",
    "            rowcnt += 1\n",
    "\n",
    "        if posSum == None :\n",
    "            posSum = 0.0\n",
    "\n",
    "            \n",
    "        log('전일잔고(DB) : %f' % posSum)            \n",
    "        \n",
    "        if posSum > 0 :\n",
    "            log(\"계좌잔고만큼 매도 주문\")\n",
    "            log(\"DB에 매도기록\")\n",
    "            c.execute(\"INSERT INTO trans(종목코드, 거래일시, 종류, 수량, 가격) VALUES (?,?,?,?,?)\" , ('106Q9', datetime.now().strftime(\"%Y-%m-%d %H:%M:%S\"), '매도', posSum * -1, 2000000 ) )\n",
    "            conn.commit()\n",
    "\n",
    "        else :\n",
    "            log(\"팔게 없다\")\n",
    "        \n",
    "\n",
    "\n",
    "        # for row in c.execute(\"SELECT sum(수량) FROM trans WHERE 종목코드 = '%s' and substr(거래일시,1,10) = '%s'\" % (symbol , today)):\n",
    "\n",
    "    time.sleep(3)\n",
    "    \n",
    "    \n",
    "    # text_str = file.read()  ## 4)\n",
    "    # print(text_str)  \n",
    "\n",
    "file.close()  ## 5)\n",
    "c.close()\n",
    "\n",
    "\n"
   ]
  },
  {
   "cell_type": "code",
   "execution_count": null,
   "metadata": {},
   "outputs": [],
   "source": []
  }
 ]
}