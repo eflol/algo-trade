{
 "metadata": {
  "language_info": {
   "codemirror_mode": {
    "name": "ipython",
    "version": 3
   },
   "file_extension": ".py",
   "mimetype": "text/x-python",
   "name": "python",
   "nbconvert_exporter": "python",
   "pygments_lexer": "ipython3",
   "version": 3
  },
  "orig_nbformat": 2,
  "kernelspec": {
   "name": "python_defaultSpec_1596020490520",
   "display_name": "Python 3.6.8 32-bit"
  }
 },
 "nbformat": 4,
 "nbformat_minor": 2,
 "cells": [
  {
   "cell_type": "code",
   "execution_count": 15,
   "metadata": {},
   "outputs": [],
   "source": [
    "import sqlite3\n",
    "\n",
    "conn = sqlite3.connect('example.db')\n",
    "\n",
    "c = conn.cursor()\n",
    "\n",
    "# Create table\n",
    "c.execute(\"\"\"drop TABLE trans\"\"\")\n",
    "\n",
    "c.execute(\"\"\"CREATE TABLE trans\n",
    "                    (종목코드 text, \n",
    "                    거래일시 text, \n",
    "                    종류 text, \n",
    "                    수량 real, \n",
    "                    가격 real)\"\"\")\n",
    "\n",
    "conn.commit()\n",
    "conn.close()\n"
   ]
  },
  {
   "cell_type": "code",
   "execution_count": 23,
   "metadata": {},
   "outputs": [],
   "source": [
    "import sqlite3\n",
    "import datetime\n",
    "\n",
    "conn = sqlite3.connect('example.db')\n",
    "\n",
    "c = conn.cursor()\n",
    "\n",
    "# Insert a row of data\n",
    "\n",
    "c.execute(\"INSERT INTO trans(종목코드, 거래일시, 종류, 수량, 가격) VALUES (?,?,?,?,?)\" , ('106Q9', datetime.datetime.now().strftime(\"%Y-%m-%d %H:%M:%S\"), '매수', 2, 2000000 ) )\n",
    "\n",
    "\n",
    "# Larger example that inserts many records at a time\n",
    "# purchases = [('2006-03-28', 'BUY', 'IBM', 1000, 45.00),\n",
    "#             ('2006-04-05', 'BUY', 'MSFT', 1000, 72.00),\n",
    "#             ('2006-04-06', 'SELL', 'IBM', 500, 53.00),\n",
    "#             ]\n",
    "# c.executemany('INSERT INTO stocks VALUES (?,?,?,?,?)', purchases)\n",
    "\n",
    "\n",
    "# Save (commit) the changes\n",
    "conn.commit()\n",
    "conn.close()"
   ]
  },
  {
   "cell_type": "code",
   "execution_count": 32,
   "metadata": {
    "tags": []
   },
   "outputs": [
    {
     "output_type": "stream",
     "name": "stdout",
     "text": "('aaa', '106Q9', '2020-07-29 20:38:47', '매수', 2.0, 2000000.0)\n<class 'tuple'>\n2020-07-29 20:38:47\n('ccc', '106Q9', '2020-07-29 20:38:47', '매수', 2.0, 2000000.0)\n"
    }
   ],
   "source": [
    "import sqlite3\n",
    "\n",
    "conn = sqlite3.connect('example.db')\n",
    "\n",
    "c = conn.cursor()\n",
    "\n",
    "symbol = '106Q9'\n",
    "c.execute(\"SELECT 'aaa' as name,* FROM trans WHERE 종목코드 = '%s'\" % symbol)\n",
    "print(c.fetchone())\n",
    "\n",
    "# Do this instead\n",
    "t = ('106Q9',)\n",
    "c.execute(\"SELECT 'bbb' as name,* FROM trans WHERE 종목코드=?\", t)\n",
    "r = c.fetchone()\n",
    "print(type(r))\n",
    "\n",
    "for row in c.execute(\"SELECT 'ccc' as name,* FROM trans ORDER BY 가격\"):\n",
    "    print(row[2])\n",
    "    print(row)\n",
    "\n",
    "conn.close()\n"
   ]
  },
  {
   "cell_type": "code",
   "execution_count": null,
   "metadata": {},
   "outputs": [],
   "source": []
  }
 ]
}